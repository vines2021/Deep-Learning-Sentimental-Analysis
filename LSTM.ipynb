{
  "cells": [
    {
      "cell_type": "markdown",
      "metadata": {
        "id": "view-in-github",
        "colab_type": "text"
      },
      "source": [
        "<a href=\"https://colab.research.google.com/github/vines2021/Deep-Learning-Sentimental-Analysis/blob/main/LSTM.ipynb\" target=\"_parent\"><img src=\"https://colab.research.google.com/assets/colab-badge.svg\" alt=\"Open In Colab\"/></a>"
      ]
    },
    {
      "cell_type": "code",
      "execution_count": null,
      "metadata": {
        "id": "TWaRZb5CNKlb"
      },
      "outputs": [],
      "source": [
        "import numpy as np\n",
        "from tensorflow.keras.datasets import imdb\n",
        "from tensorflow.keras.models import Sequential\n",
        "from tensorflow.keras.layers import Embedding, GRU, Dense, LSTM\n",
        "from tensorflow.keras.preprocessing import sequence"
      ]
    },
    {
      "cell_type": "code",
      "execution_count": null,
      "metadata": {
        "colab": {
          "base_uri": "https://localhost:8080/"
        },
        "id": "sxWM4Nt4NxYa",
        "outputId": "b68e8a46-9a66-45b3-a5b0-985c835d6dd2"
      },
      "outputs": [
        {
          "name": "stdout",
          "output_type": "stream",
          "text": [
            "Downloading data from https://storage.googleapis.com/tensorflow/tf-keras-datasets/imdb.npz\n",
            "17464789/17464789 [==============================] - 1s 0us/step\n"
          ]
        }
      ],
      "source": [
        "max_words=5000\n",
        "\n",
        "(x_train,y_train),(x_test, y_test)=imdb.load_data(num_words=max_words)\n",
        "\n",
        "max_length=500\n",
        "x_train = sequence.pad_sequences(x_train, maxlen=max_length)\n",
        "x_test = sequence.pad_sequences(x_test, maxlen=max_length)\n",
        "\n",
        "model=Sequential()\n",
        "model.add(Embedding(max_words, 100, input_length= max_length))\n"
      ]
    },
    {
      "cell_type": "code",
      "execution_count": null,
      "metadata": {
        "colab": {
          "background_save": true,
          "base_uri": "https://localhost:8080/"
        },
        "id": "MOF1_ttKdukl",
        "outputId": "25c0f9a5-c089-4617-98a0-8481b3919c60"
      },
      "outputs": [
        {
          "name": "stdout",
          "output_type": "stream",
          "text": [
            "Epoch 1/50\n",
            "157/157 [==============================] - 44s 230ms/step - loss: 0.5186 - accuracy: 0.7382 - val_loss: 0.3755 - val_accuracy: 0.8466\n",
            "Epoch 2/50\n",
            "157/157 [==============================] - 26s 164ms/step - loss: 0.3001 - accuracy: 0.8806 - val_loss: 0.3185 - val_accuracy: 0.8680\n",
            "Epoch 3/50\n",
            "157/157 [==============================] - 16s 103ms/step - loss: 0.2283 - accuracy: 0.9130 - val_loss: 0.2946 - val_accuracy: 0.8728\n",
            "Epoch 4/50\n",
            "157/157 [==============================] - 14s 88ms/step - loss: 0.1891 - accuracy: 0.9295 - val_loss: 0.3194 - val_accuracy: 0.8734\n",
            "Epoch 5/50\n",
            "157/157 [==============================] - 11s 67ms/step - loss: 0.1624 - accuracy: 0.9388 - val_loss: 0.3531 - val_accuracy: 0.8690\n",
            "Epoch 6/50\n",
            "157/157 [==============================] - 9s 60ms/step - loss: 0.1517 - accuracy: 0.9451 - val_loss: 0.4261 - val_accuracy: 0.8656\n",
            "Epoch 7/50\n",
            "157/157 [==============================] - 9s 55ms/step - loss: 0.1187 - accuracy: 0.9571 - val_loss: 0.4128 - val_accuracy: 0.8600\n",
            "Epoch 8/50\n",
            "157/157 [==============================] - 7s 47ms/step - loss: 0.1411 - accuracy: 0.9492 - val_loss: 0.4564 - val_accuracy: 0.8524\n",
            "Epoch 9/50\n",
            "157/157 [==============================] - 8s 50ms/step - loss: 0.0913 - accuracy: 0.9685 - val_loss: 0.4508 - val_accuracy: 0.8542\n",
            "Epoch 10/50\n",
            "157/157 [==============================] - 8s 50ms/step - loss: 0.0955 - accuracy: 0.9685 - val_loss: 0.5599 - val_accuracy: 0.8196\n",
            "Epoch 11/50\n",
            "157/157 [==============================] - 9s 58ms/step - loss: 0.0794 - accuracy: 0.9726 - val_loss: 0.5855 - val_accuracy: 0.8516\n",
            "Epoch 12/50\n",
            "157/157 [==============================] - 9s 56ms/step - loss: 0.0700 - accuracy: 0.9771 - val_loss: 0.6221 - val_accuracy: 0.8514\n",
            "Epoch 13/50\n",
            "157/157 [==============================] - 8s 49ms/step - loss: 0.0467 - accuracy: 0.9866 - val_loss: 0.6462 - val_accuracy: 0.8490\n",
            "Epoch 14/50\n",
            "157/157 [==============================] - 8s 49ms/step - loss: 0.0526 - accuracy: 0.9846 - val_loss: 0.7487 - val_accuracy: 0.8342\n",
            "Epoch 15/50\n",
            "157/157 [==============================] - 7s 42ms/step - loss: 0.0365 - accuracy: 0.9887 - val_loss: 0.7487 - val_accuracy: 0.8544\n",
            "Epoch 16/50\n",
            "157/157 [==============================] - 7s 42ms/step - loss: 0.1849 - accuracy: 0.9280 - val_loss: 0.4675 - val_accuracy: 0.8430\n",
            "Epoch 17/50\n",
            "157/157 [==============================] - 7s 45ms/step - loss: 0.0753 - accuracy: 0.9747 - val_loss: 0.5603 - val_accuracy: 0.8292\n",
            "Epoch 18/50\n",
            "157/157 [==============================] - 6s 38ms/step - loss: 0.0485 - accuracy: 0.9846 - val_loss: 0.6317 - val_accuracy: 0.8446\n",
            "Epoch 19/50\n",
            "157/157 [==============================] - 7s 47ms/step - loss: 0.0280 - accuracy: 0.9922 - val_loss: 0.6822 - val_accuracy: 0.8370\n",
            "Epoch 20/50\n",
            "157/157 [==============================] - 7s 43ms/step - loss: 0.0288 - accuracy: 0.9916 - val_loss: 0.7557 - val_accuracy: 0.8380\n",
            "Epoch 21/50\n",
            "157/157 [==============================] - 6s 38ms/step - loss: 0.0209 - accuracy: 0.9946 - val_loss: 0.7544 - val_accuracy: 0.8332\n",
            "Epoch 22/50\n",
            "157/157 [==============================] - 7s 42ms/step - loss: 0.0616 - accuracy: 0.9788 - val_loss: 0.7304 - val_accuracy: 0.8352\n",
            "Epoch 23/50\n",
            "157/157 [==============================] - 6s 41ms/step - loss: 0.0358 - accuracy: 0.9896 - val_loss: 0.7954 - val_accuracy: 0.8484\n",
            "Epoch 24/50\n",
            "157/157 [==============================] - 7s 42ms/step - loss: 0.1235 - accuracy: 0.9553 - val_loss: 0.5069 - val_accuracy: 0.8212\n",
            "Epoch 25/50\n",
            "157/157 [==============================] - 8s 49ms/step - loss: 0.1098 - accuracy: 0.9603 - val_loss: 0.6249 - val_accuracy: 0.8462\n",
            "Epoch 26/50\n",
            "157/157 [==============================] - 7s 42ms/step - loss: 0.0219 - accuracy: 0.9947 - val_loss: 0.6861 - val_accuracy: 0.8368\n",
            "Epoch 27/50\n",
            "157/157 [==============================] - 6s 41ms/step - loss: 0.0341 - accuracy: 0.9898 - val_loss: 0.7447 - val_accuracy: 0.8438\n",
            "Epoch 28/50\n",
            "157/157 [==============================] - 6s 39ms/step - loss: 0.0148 - accuracy: 0.9966 - val_loss: 0.8072 - val_accuracy: 0.8404\n",
            "Epoch 29/50\n",
            "157/157 [==============================] - 6s 41ms/step - loss: 0.0053 - accuracy: 0.9994 - val_loss: 0.8565 - val_accuracy: 0.8450\n",
            "Epoch 30/50\n",
            "157/157 [==============================] - 7s 43ms/step - loss: 0.0027 - accuracy: 0.9998 - val_loss: 0.9412 - val_accuracy: 0.8454\n",
            "Epoch 31/50\n",
            "157/157 [==============================] - 6s 40ms/step - loss: 0.0018 - accuracy: 0.9999 - val_loss: 0.9900 - val_accuracy: 0.8450\n",
            "Epoch 32/50\n",
            "157/157 [==============================] - 7s 42ms/step - loss: 0.0014 - accuracy: 0.9999 - val_loss: 1.0370 - val_accuracy: 0.8460\n",
            "Epoch 33/50\n",
            "157/157 [==============================] - 6s 38ms/step - loss: 0.0011 - accuracy: 0.9999 - val_loss: 1.0529 - val_accuracy: 0.8448\n",
            "Epoch 34/50\n",
            "157/157 [==============================] - 6s 40ms/step - loss: 9.2521e-04 - accuracy: 0.9999 - val_loss: 1.0881 - val_accuracy: 0.8438\n",
            "Epoch 35/50\n",
            "157/157 [==============================] - 6s 41ms/step - loss: 0.3732 - accuracy: 0.8414 - val_loss: 0.3803 - val_accuracy: 0.8594\n",
            "Epoch 36/50\n",
            "157/157 [==============================] - 6s 40ms/step - loss: 0.0838 - accuracy: 0.9697 - val_loss: 0.5428 - val_accuracy: 0.8356\n",
            "Epoch 37/50\n",
            "157/157 [==============================] - 6s 40ms/step - loss: 0.0419 - accuracy: 0.9852 - val_loss: 0.6436 - val_accuracy: 0.8260\n",
            "Epoch 38/50\n",
            "157/157 [==============================] - 6s 41ms/step - loss: 0.0206 - accuracy: 0.9937 - val_loss: 0.7317 - val_accuracy: 0.8436\n",
            "Epoch 39/50\n",
            "157/157 [==============================] - 6s 41ms/step - loss: 0.0201 - accuracy: 0.9940 - val_loss: 0.8201 - val_accuracy: 0.8320\n",
            "Epoch 40/50\n",
            "157/157 [==============================] - 6s 41ms/step - loss: 0.0128 - accuracy: 0.9969 - val_loss: 0.8268 - val_accuracy: 0.8484\n",
            "Epoch 41/50\n",
            "157/157 [==============================] - 6s 40ms/step - loss: 0.0063 - accuracy: 0.9987 - val_loss: 0.8704 - val_accuracy: 0.8472\n",
            "Epoch 42/50\n",
            "157/157 [==============================] - 6s 39ms/step - loss: 0.0024 - accuracy: 0.9998 - val_loss: 0.9682 - val_accuracy: 0.8448\n",
            "Epoch 43/50\n",
            "157/157 [==============================] - 6s 41ms/step - loss: 9.2448e-04 - accuracy: 0.9999 - val_loss: 0.9918 - val_accuracy: 0.8454\n",
            "Epoch 44/50\n",
            "157/157 [==============================] - 6s 39ms/step - loss: 5.1825e-04 - accuracy: 1.0000 - val_loss: 1.0505 - val_accuracy: 0.8476\n",
            "Epoch 45/50\n",
            "157/157 [==============================] - 6s 39ms/step - loss: 3.6781e-04 - accuracy: 1.0000 - val_loss: 1.0877 - val_accuracy: 0.8452\n",
            "Epoch 46/50\n",
            "157/157 [==============================] - 7s 42ms/step - loss: 2.7543e-04 - accuracy: 1.0000 - val_loss: 1.1182 - val_accuracy: 0.8464\n",
            "Epoch 47/50\n",
            "157/157 [==============================] - 6s 39ms/step - loss: 2.2023e-04 - accuracy: 1.0000 - val_loss: 1.1385 - val_accuracy: 0.8470\n",
            "Epoch 48/50\n",
            "157/157 [==============================] - 7s 42ms/step - loss: 1.7928e-04 - accuracy: 1.0000 - val_loss: 1.1639 - val_accuracy: 0.8468\n",
            "Epoch 49/50\n",
            "157/157 [==============================] - 7s 42ms/step - loss: 1.4794e-04 - accuracy: 1.0000 - val_loss: 1.1860 - val_accuracy: 0.8472\n",
            "Epoch 50/50\n",
            "157/157 [==============================] - 6s 38ms/step - loss: 1.2439e-04 - accuracy: 1.0000 - val_loss: 1.2062 - val_accuracy: 0.8466\n",
            "196/196 [==============================] - 3s 14ms/step - loss: 1.1932 - accuracy: 0.8507\n",
            "0.8507199883460999\n"
          ]
        }
      ],
      "source": [
        "model.add(LSTM(128))\n",
        "model.add(Dense(1, activation='sigmoid'))\n",
        "model.compile(loss='binary_crossentropy',optimizer='adam', metrics=['accuracy']  )\n",
        "\n",
        "batch_size=128\n",
        "epochs=50\n",
        "model.fit(x_train, y_train, batch_size, epochs=epochs, validation_split=0.2)\n",
        "\n",
        "loss, accuracy = model.evaluate(x_test, y_test, batch_size=batch_size)\n",
        "\n",
        "print(accuracy)"
      ]
    },
    {
      "cell_type": "code",
      "execution_count": null,
      "metadata": {
        "colab": {
          "background_save": true
        },
        "id": "dJrTE3OqnDzL",
        "outputId": "55a2cab1-4e61-47d8-f3e7-49482fbcb550"
      },
      "outputs": [
        {
          "name": "stdout",
          "output_type": "stream",
          "text": [
            "0.8507199883460999\n"
          ]
        }
      ],
      "source": [
        "print(accuracy)\n"
      ]
    },
    {
      "cell_type": "code",
      "execution_count": null,
      "metadata": {
        "colab": {
          "background_save": true
        },
        "id": "ISbtAVaHlHfU"
      },
      "outputs": [],
      "source": []
    }
  ],
  "metadata": {
    "accelerator": "GPU",
    "colab": {
      "provenance": [],
      "authorship_tag": "ABX9TyNFvAqZME5D7lhmTW529J6b",
      "include_colab_link": true
    },
    "kernelspec": {
      "display_name": "Python 3",
      "name": "python3"
    },
    "language_info": {
      "name": "python"
    }
  },
  "nbformat": 4,
  "nbformat_minor": 0
}