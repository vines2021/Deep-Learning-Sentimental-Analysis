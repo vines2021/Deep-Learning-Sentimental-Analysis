{
  "nbformat": 4,
  "nbformat_minor": 0,
  "metadata": {
    "colab": {
      "provenance": [],
      "gpuType": "T4",
      "authorship_tag": "ABX9TyPF0LYRiRg7CskhQq0ppgIF",
      "include_colab_link": true
    },
    "kernelspec": {
      "name": "python3",
      "display_name": "Python 3"
    },
    "language_info": {
      "name": "python"
    },
    "accelerator": "GPU"
  },
  "cells": [
    {
      "cell_type": "markdown",
      "metadata": {
        "id": "view-in-github",
        "colab_type": "text"
      },
      "source": [
        "<a href=\"https://colab.research.google.com/github/vines2021/Deep-Learning-Sentimental-Analysis/blob/main/Dl_Assignment.ipynb\" target=\"_parent\"><img src=\"https://colab.research.google.com/assets/colab-badge.svg\" alt=\"Open In Colab\"/></a>"
      ]
    },
    {
      "cell_type": "markdown",
      "source": [
        "# GRU"
      ],
      "metadata": {
        "id": "dMacSvBdpJB_"
      }
    },
    {
      "cell_type": "code",
      "execution_count": 1,
      "metadata": {
        "id": "zUdgjvgJn1pY"
      },
      "outputs": [],
      "source": [
        "import numpy as np\n",
        "from tensorflow.keras.datasets import imdb\n",
        "from tensorflow.keras.models import Sequential\n",
        "from tensorflow.keras.layers import Embedding,GRU,Dense\n",
        "from tensorflow.keras.preprocessing import sequence"
      ]
    },
    {
      "cell_type": "code",
      "source": [
        "max_words = 5000\n",
        "(xt,yt),(xte,yte)= imdb.load_data(num_words=max_words)\n",
        "\n",
        "max_len =500\n",
        "xt=sequence.pad_sequences(xt,maxlen=max_len)\n",
        "xte=sequence.pad_sequences(xte,maxlen=max_len)\n",
        "\n",
        "model=Sequential()\n",
        "model.add(Embedding(max_words,100,input_length=max_len))\n",
        "model.add(GRU(128))\n",
        "model.add(Dense(1,activation='sigmoid'))"
      ],
      "metadata": {
        "colab": {
          "base_uri": "https://localhost:8080/"
        },
        "id": "14jCZ1A9n4aO",
        "outputId": "d47ea442-82cb-4a92-ab32-680d70401546"
      },
      "execution_count": 2,
      "outputs": [
        {
          "output_type": "stream",
          "name": "stdout",
          "text": [
            "Downloading data from https://storage.googleapis.com/tensorflow/tf-keras-datasets/imdb.npz\n",
            "17464789/17464789 [==============================] - 0s 0us/step\n"
          ]
        }
      ]
    },
    {
      "cell_type": "code",
      "source": [
        "model.compile(loss='binary_crossentropy',optimizer='adam',metrics=['accuracy'])\n",
        "batch_size=128\n",
        "epochs=5\n",
        "model.fit(xt,yt,batch_size=batch_size,epochs=epochs)"
      ],
      "metadata": {
        "colab": {
          "base_uri": "https://localhost:8080/"
        },
        "id": "D5Zc89HNn4fg",
        "outputId": "c9dbdc00-226f-40fe-cbc5-4cdad374a031"
      },
      "execution_count": 3,
      "outputs": [
        {
          "output_type": "stream",
          "name": "stdout",
          "text": [
            "Epoch 1/5\n",
            "196/196 [==============================] - 51s 219ms/step - loss: 0.4914 - accuracy: 0.7492\n",
            "Epoch 2/5\n",
            "196/196 [==============================] - 28s 142ms/step - loss: 0.2957 - accuracy: 0.8813\n",
            "Epoch 3/5\n",
            "196/196 [==============================] - 14s 71ms/step - loss: 0.2429 - accuracy: 0.9053\n",
            "Epoch 4/5\n",
            "196/196 [==============================] - 14s 69ms/step - loss: 0.1921 - accuracy: 0.9278\n",
            "Epoch 5/5\n",
            "196/196 [==============================] - 12s 62ms/step - loss: 0.1537 - accuracy: 0.9447\n"
          ]
        },
        {
          "output_type": "execute_result",
          "data": {
            "text/plain": [
              "<keras.callbacks.History at 0x7ccf670bdab0>"
            ]
          },
          "metadata": {},
          "execution_count": 3
        }
      ]
    },
    {
      "cell_type": "code",
      "source": [
        "loss,accuracy=model.evaluate(xte,yte,batch_size=batch_size)\n",
        "print(\"accuracy:\",accuracy)\n",
        "print(\"loss:\",loss)"
      ],
      "metadata": {
        "colab": {
          "base_uri": "https://localhost:8080/"
        },
        "id": "PgdJN5UQn4iQ",
        "outputId": "66af28c8-5597-4405-891d-e5508451d9c9"
      },
      "execution_count": 4,
      "outputs": [
        {
          "output_type": "stream",
          "name": "stdout",
          "text": [
            "196/196 [==============================] - 3s 12ms/step - loss: 0.3335 - accuracy: 0.8841\n",
            "accuracy: 0.884119987487793\n",
            "loss: 0.33348801732063293\n"
          ]
        }
      ]
    },
    {
      "cell_type": "code",
      "source": [
        "history=model.fit(xt,yt,batch_size=batch_size,epochs=epochs)"
      ],
      "metadata": {
        "colab": {
          "base_uri": "https://localhost:8080/"
        },
        "id": "WVcshU8jn4nx",
        "outputId": "25ed8609-b64f-45c2-df89-55f06d9a5780"
      },
      "execution_count": 5,
      "outputs": [
        {
          "output_type": "stream",
          "name": "stdout",
          "text": [
            "Epoch 1/5\n",
            "196/196 [==============================] - 11s 55ms/step - loss: 0.1201 - accuracy: 0.9577\n",
            "Epoch 2/5\n",
            "196/196 [==============================] - 8s 42ms/step - loss: 0.0917 - accuracy: 0.9698\n",
            "Epoch 3/5\n",
            "196/196 [==============================] - 8s 40ms/step - loss: 0.0751 - accuracy: 0.9740\n",
            "Epoch 4/5\n",
            "196/196 [==============================] - 7s 38ms/step - loss: 0.0558 - accuracy: 0.9818\n",
            "Epoch 5/5\n",
            "196/196 [==============================] - 9s 45ms/step - loss: 0.0456 - accuracy: 0.9856\n"
          ]
        }
      ]
    },
    {
      "cell_type": "code",
      "source": [
        "train_loss1 = history.history['loss']\n",
        "train_acc1 = history.history['accuracy']\n",
        "xc1=range(len(train_acc1))"
      ],
      "metadata": {
        "id": "XN36p4Q4n4qq"
      },
      "execution_count": 6,
      "outputs": []
    },
    {
      "cell_type": "code",
      "source": [
        "import matplotlib.pyplot as plt\n",
        "%matplotlib inline\n",
        "plt.plot(xc1, train_acc1)\n",
        "plt.xlabel(\"Epoch\")\n",
        "plt.ylabel(\"Accuracy\")\n",
        "plt.legend('train')"
      ],
      "metadata": {
        "colab": {
          "base_uri": "https://localhost:8080/",
          "height": 466
        },
        "id": "8zuvXwnhoDTN",
        "outputId": "94e7e86b-3658-4647-8406-5953df41bac1"
      },
      "execution_count": 7,
      "outputs": [
        {
          "output_type": "execute_result",
          "data": {
            "text/plain": [
              "<matplotlib.legend.Legend at 0x7ccf5e383dc0>"
            ]
          },
          "metadata": {},
          "execution_count": 7
        },
        {
          "output_type": "display_data",
          "data": {
            "text/plain": [
              "<Figure size 640x480 with 1 Axes>"
            ],
            "image/png": "[encoded data removed]"
          },
          "metadata": {}
        }
      ]
    },
    {
      "cell_type": "code",
      "source": [],
      "metadata": {
        "id": "qiyt0R85oDWM"
      },
      "execution_count": 7,
      "outputs": []
    },
    {
      "cell_type": "markdown",
      "source": [
        "# LSTM"
      ],
      "metadata": {
        "id": "9qt71arKpPsO"
      }
    },
    {
      "cell_type": "code",
      "source": [
        "from tensorflow.keras.layers import Embedding,LSTM,Dense"
      ],
      "metadata": {
        "id": "SIOx-gBLoDb7"
      },
      "execution_count": 8,
      "outputs": []
    },
    {
      "cell_type": "code",
      "source": [
        "model = Sequential()\n",
        "model.add(Embedding(max_words,100, input_length=max_len))\n",
        "model.add(LSTM(128))\n",
        "model.add(Dense(units=1, activation='sigmoid'))"
      ],
      "metadata": {
        "id": "pjpVTJohoDfk"
      },
      "execution_count": 13,
      "outputs": []
    },
    {
      "cell_type": "code",
      "source": [
        "model.compile(loss='binary_crossentropy', optimizer='adam', metrics=['accuracy'])"
      ],
      "metadata": {
        "id": "448M4WzVq4Mj"
      },
      "execution_count": 14,
      "outputs": []
    },
    {
      "cell_type": "code",
      "source": [
        "epochs = 5\n",
        "batch_size = 128\n",
        "\n",
        "hist=model.fit(xt, yt, epochs=epochs, batch_size=batch_size)"
      ],
      "metadata": {
        "colab": {
          "base_uri": "https://localhost:8080/"
        },
        "id": "BGZwBkl-oDjO",
        "outputId": "34846526-a2e4-4388-c26b-7ae30bb06c7c"
      },
      "execution_count": 15,
      "outputs": [
        {
          "output_type": "stream",
          "name": "stdout",
          "text": [
            "Epoch 1/5\n",
            "196/196 [==============================] - 34s 160ms/step - loss: 0.5622 - accuracy: 0.7005\n",
            "Epoch 2/5\n",
            "196/196 [==============================] - 21s 107ms/step - loss: 0.3219 - accuracy: 0.8688\n",
            "Epoch 3/5\n",
            "196/196 [==============================] - 18s 90ms/step - loss: 0.2577 - accuracy: 0.8979\n",
            "Epoch 4/5\n",
            "196/196 [==============================] - 12s 62ms/step - loss: 0.2422 - accuracy: 0.9036\n",
            "Epoch 5/5\n",
            "196/196 [==============================] - 10s 50ms/step - loss: 0.1865 - accuracy: 0.9302\n"
          ]
        }
      ]
    },
    {
      "cell_type": "code",
      "source": [
        "loss,accuracy=model.evaluate(xte,yte,batch_size=batch_size)\n",
        "print(\"accuracy:\",accuracy)\n",
        "print(\"loss:\",loss)"
      ],
      "metadata": {
        "colab": {
          "base_uri": "https://localhost:8080/"
        },
        "id": "uhJSRO3koDmX",
        "outputId": "17bed9f5-d88f-451a-e78f-b8546460bce9"
      },
      "execution_count": 16,
      "outputs": [
        {
          "output_type": "stream",
          "name": "stdout",
          "text": [
            "196/196 [==============================] - 3s 13ms/step - loss: 0.3167 - accuracy: 0.8770\n",
            "accuracy: 0.8769999742507935\n",
            "loss: 0.31674137711524963\n"
          ]
        }
      ]
    },
    {
      "cell_type": "code",
      "source": [
        "train_loss2 = hist.history['loss']\n",
        "train_acc2 = hist.history['accuracy']\n",
        "xc2=range(len(train_acc2))"
      ],
      "metadata": {
        "id": "s6CVpxJBoDpm"
      },
      "execution_count": 17,
      "outputs": []
    },
    {
      "cell_type": "code",
      "source": [
        "import matplotlib.pyplot as plt\n",
        "%matplotlib inline\n",
        "plt.plot(xc2, train_acc2)\n",
        "plt.xlabel(\"Epoch\")\n",
        "plt.ylabel(\"Accuracy\")\n",
        "plt.legend('train')"
      ],
      "metadata": {
        "colab": {
          "base_uri": "https://localhost:8080/",
          "height": 466
        },
        "id": "gtRfEVhEoDs6",
        "outputId": "2e1965ff-c21c-49a5-80e8-4bee74a4843a"
      },
      "execution_count": 18,
      "outputs": [
        {
          "output_type": "execute_result",
          "data": {
            "text/plain": [
              "<matplotlib.legend.Legend at 0x7cd004ae7550>"
            ]
          },
          "metadata": {},
          "execution_count": 18
        },
        {
          "output_type": "display_data",
          "data": {
            "text/plain": [
              "<Figure size 640x480 with 1 Axes>"
            ],
            "image/png": "[encoded data removed]"
          },
          "metadata": {}
        }
      ]
    },
    {
      "cell_type": "code",
      "source": [],
      "metadata": {
        "id": "HnnVqyc8oDvt"
      },
      "execution_count": null,
      "outputs": []
    },
    {
      "cell_type": "markdown",
      "source": [
        "# RNN"
      ],
      "metadata": {
        "id": "mD5dmRjGpUq2"
      }
    },
    {
      "cell_type": "code",
      "source": [
        "from tensorflow.keras.layers import Embedding,RNN\n",
        "from keras import layers\n"
      ],
      "metadata": {
        "id": "H35ohZPqoDzA"
      },
      "execution_count": 19,
      "outputs": []
    },
    {
      "cell_type": "code",
      "source": [
        "model = Sequential()\n",
        "model.add(Embedding(max_words,100, input_length=max_len))\n",
        "model.add(layers.LSTM(128))\n",
        "model.add(layers.Dense(10))\n",
        "model.add(Dense(units=1, activation='sigmoid'))"
      ],
      "metadata": {
        "id": "XJmjFdr1oPbx"
      },
      "execution_count": 20,
      "outputs": []
    },
    {
      "cell_type": "code",
      "source": [
        "model.compile(loss='binary_crossentropy', optimizer='adam', metrics=['accuracy'])"
      ],
      "metadata": {
        "id": "p42iNcd0oPe0"
      },
      "execution_count": 21,
      "outputs": []
    },
    {
      "cell_type": "code",
      "source": [
        "epochs = 5\n",
        "batch_size = 128\n",
        "\n",
        "h=model.fit(xt, yt, epochs=epochs, batch_size=batch_size, validation_split=0.2)"
      ],
      "metadata": {
        "colab": {
          "base_uri": "https://localhost:8080/"
        },
        "id": "Z3EIC47voPh5",
        "outputId": "439c1afb-f817-4f3c-c62d-795e7da4b3d0"
      },
      "execution_count": 22,
      "outputs": [
        {
          "output_type": "stream",
          "name": "stdout",
          "text": [
            "Epoch 1/5\n",
            "157/157 [==============================] - 32s 183ms/step - loss: 0.4944 - accuracy: 0.7549 - val_loss: 0.3360 - val_accuracy: 0.8618\n",
            "Epoch 2/5\n",
            "157/157 [==============================] - 21s 133ms/step - loss: 0.2868 - accuracy: 0.8854 - val_loss: 0.3529 - val_accuracy: 0.8530\n",
            "Epoch 3/5\n",
            "157/157 [==============================] - 15s 92ms/step - loss: 0.2209 - accuracy: 0.9161 - val_loss: 0.2970 - val_accuracy: 0.8788\n",
            "Epoch 4/5\n",
            "157/157 [==============================] - 8s 50ms/step - loss: 0.1938 - accuracy: 0.9272 - val_loss: 0.3189 - val_accuracy: 0.8762\n",
            "Epoch 5/5\n",
            "157/157 [==============================] - 9s 55ms/step - loss: 0.1709 - accuracy: 0.9355 - val_loss: 0.3648 - val_accuracy: 0.8496\n"
          ]
        }
      ]
    },
    {
      "cell_type": "code",
      "source": [
        "loss,accuracy=model.evaluate(xte,yte,batch_size=batch_size)\n",
        "print(\"accuracy:\",accuracy)\n",
        "print(\"loss:\",loss)"
      ],
      "metadata": {
        "colab": {
          "base_uri": "https://localhost:8080/"
        },
        "id": "wgc8a94doPk5",
        "outputId": "5262220c-0e92-477a-f2d8-a749a0f1a9ab"
      },
      "execution_count": 23,
      "outputs": [
        {
          "output_type": "stream",
          "name": "stdout",
          "text": [
            "196/196 [==============================] - 3s 13ms/step - loss: 0.3641 - accuracy: 0.8520\n",
            "accuracy: 0.8519600033760071\n",
            "loss: 0.3641282320022583\n"
          ]
        }
      ]
    },
    {
      "cell_type": "code",
      "source": [
        "train_loss3 = h.history['loss']\n",
        "train_acc3 = h.history['accuracy']\n",
        "xc3=range(len(train_loss3))\n",
        "import matplotlib.pyplot as plt\n",
        "%matplotlib inline\n",
        "plt.plot(xc3, train_acc3)\n",
        "plt.xlabel(\"Epoch\")\n",
        "plt.ylabel(\"Accuracy\")\n",
        "plt.legend('train')"
      ],
      "metadata": {
        "colab": {
          "base_uri": "https://localhost:8080/",
          "height": 466
        },
        "id": "2l7czpdzoPn6",
        "outputId": "5b1668dc-bd1a-424a-f3f7-970c7fe634bb"
      },
      "execution_count": 24,
      "outputs": [
        {
          "output_type": "execute_result",
          "data": {
            "text/plain": [
              "<matplotlib.legend.Legend at 0x7cd004ae7430>"
            ]
          },
          "metadata": {},
          "execution_count": 24
        },
        {
          "output_type": "display_data",
          "data": {
            "text/plain": [
              "<Figure size 640x480 with 1 Axes>"
            ],
            "image/png": "[encoded data removed]"
          },
          "metadata": {}
        }
      ]
    },
    {
      "cell_type": "markdown",
      "source": [
        "# PLOT"
      ],
      "metadata": {
        "id": "yS2P5NdspXq0"
      }
    },
    {
      "cell_type": "code",
      "source": [
        "plt.plot(xc1, train_acc1)\n",
        "plt.plot(xc2, train_acc2)\n",
        "plt.plot(xc3, train_acc3)\n",
        "plt.xlabel(\"Epoch\")\n",
        "plt.ylabel(\"Accuracy\")\n",
        "plt.legend([\"GRU\",\"LSTM\",\"RNN\"])"
      ],
      "metadata": {
        "colab": {
          "base_uri": "https://localhost:8080/",
          "height": 466
        },
        "id": "X1TioQbroPrG",
        "outputId": "75b4b029-9019-46ad-e1a0-10f7a984cbdf"
      },
      "execution_count": 25,
      "outputs": [
        {
          "output_type": "execute_result",
          "data": {
            "text/plain": [
              "<matplotlib.legend.Legend at 0x7ccf5e916800>"
            ]
          },
          "metadata": {},
          "execution_count": 25
        },
        {
          "output_type": "display_data",
          "data": {
            "text/plain": [
              "<Figure size 640x480 with 1 Axes>"
            ],
            "image/png": "[encoded data removed]"
          },
          "metadata": {}
        }
      ]
    },
    {
      "cell_type": "markdown",
      "source": [],
      "metadata": {
        "id": "f-DrJ2rmpHzy"
      }
    },
    {
      "cell_type": "code",
      "source": [],
      "metadata": {
        "id": "wQnf-jXaoPuL"
      },
      "execution_count": null,
      "outputs": []
    },
    {
      "cell_type": "code",
      "source": [],
      "metadata": {
        "id": "-vpQFPk1oPxS"
      },
      "execution_count": null,
      "outputs": []
    },
    {
      "cell_type": "code",
      "source": [],
      "metadata": {
        "id": "IKVWJAEOoP3V"
      },
      "execution_count": null,
      "outputs": []
    }
  ]
}