{
  "cells": [
    {
      "cell_type": "markdown",
      "metadata": {
        "id": "view-in-github",
        "colab_type": "text"
      },
      "source": [
        "<a href=\"https://colab.research.google.com/github/vines2021/Deep-Learning-Sentimental-Analysis/blob/main/GRU.ipynb\" target=\"_parent\"><img src=\"https://colab.research.google.com/assets/colab-badge.svg\" alt=\"Open In Colab\"/></a>"
      ]
    },
    {
      "cell_type": "code",
      "execution_count": null,
      "metadata": {
        "id": "JNSMP8FsktSf"
      },
      "outputs": [],
      "source": [
        "import numpy as np\n",
        "import tensorflow as tf\n",
        "from tensorflow.keras.datasets import imdb\n",
        "from tensorflow.keras.preprocessing import sequence\n",
        "from tensorflow.keras.models import Sequential\n",
        "from tensorflow.keras.layers import Embedding, GRU, Dense\n"
      ]
    },
    {
      "cell_type": "code",
      "execution_count": null,
      "metadata": {
        "colab": {
          "base_uri": "https://localhost:8080/"
        },
        "id": "EEbkh5BTkx8u",
        "outputId": "dd5abdd4-be3b-4e7a-c1b6-66400b77e7bd"
      },
      "outputs": [
        {
          "name": "stdout",
          "output_type": "stream",
          "text": [
            "Downloading data from https://storage.googleapis.com/tensorflow/tf-keras-datasets/imdb.npz\n",
            "17464789/17464789 [==============================] - 1s 0us/step\n"
          ]
        }
      ],
      "source": [
        "\n",
        "max_features = 10000  # Consider only the top 10,000 words in the dataset\n",
        "maxlen = 200  # Limit the length of each review to 200 words\n",
        "(x_train, y_train), (x_test, y_test) = imdb.load_data(num_words=max_features)\n",
        "\n",
        "# Pad sequences to have a uniform length\n",
        "x_train = sequence.pad_sequences(x_train, maxlen=maxlen)\n",
        "x_test = sequence.pad_sequences(x_test, maxlen=maxlen)\n"
      ]
    },
    {
      "cell_type": "code",
      "execution_count": null,
      "metadata": {
        "colab": {
          "background_save": true,
          "base_uri": "https://localhost:8080/"
        },
        "id": "bJwC9T91k5hd",
        "outputId": "c29f881c-ca05-4e6a-e233-6d3009483b09"
      },
      "outputs": [
        {
          "name": "stdout",
          "output_type": "stream",
          "text": [
            "Epoch 1/5\n",
            "782/782 [==============================] - 607s 771ms/step - loss: 0.4365 - accuracy: 0.7899 - val_loss: 0.3553 - val_accuracy: 0.8485\n",
            "Epoch 2/5\n",
            "782/782 [==============================] - 601s 769ms/step - loss: 0.2333 - accuracy: 0.9086 - val_loss: 0.3012 - val_accuracy: 0.8799\n",
            "Epoch 3/5\n",
            "782/782 [==============================] - 574s 735ms/step - loss: 0.1469 - accuracy: 0.9452 - val_loss: 0.2991 - val_accuracy: 0.8825\n",
            "Epoch 4/5\n",
            "782/782 [==============================] - 574s 733ms/step - loss: 0.0949 - accuracy: 0.9670 - val_loss: 0.3932 - val_accuracy: 0.8733\n",
            "Epoch 5/5\n",
            "782/782 [==============================] - 575s 735ms/step - loss: 0.0586 - accuracy: 0.9800 - val_loss: 0.5314 - val_accuracy: 0.8694\n"
          ]
        },
        {
          "data": {
            "text/plain": [
              "<keras.callbacks.History at 0x7e7830ae3820>"
            ]
          },
          "execution_count": 4,
          "metadata": {},
          "output_type": "execute_result"
        }
      ],
      "source": [
        "\n",
        "model = Sequential()\n",
        "model.add(Embedding(max_features, 128))  # Word embedding layer\n",
        "model.add(GRU(128, dropout=0.2, recurrent_dropout=0.2))  # GRU layer\n",
        "model.add(Dense(1, activation='sigmoid'))  # Output layer with sigmoid activation\n",
        "\n",
        "model.compile(loss='binary_crossentropy', optimizer='adam', metrics=['accuracy'])\n",
        "\n",
        "# Train the model\n",
        "batch_size = 32\n",
        "epochs = 5\n",
        "model.fit(x_train, y_train, batch_size=batch_size, epochs=epochs, validation_data=(x_test, y_test))\n"
      ]
    }
  ],
  "metadata": {
    "colab": {
      "provenance": [],
      "authorship_tag": "ABX9TyO19H1m8lXV2QEr1ijSSmfi",
      "include_colab_link": true
    },
    "kernelspec": {
      "display_name": "Python 3",
      "name": "python3"
    },
    "language_info": {
      "name": "python"
    }
  },
  "nbformat": 4,
  "nbformat_minor": 0
}